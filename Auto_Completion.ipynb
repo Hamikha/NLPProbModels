{
  "nbformat": 4,
  "nbformat_minor": 0,
  "metadata": {
    "colab": {
      "provenance": [],
      "gpuType": "T4"
    },
    "kernelspec": {
      "name": "python3",
      "display_name": "Python 3"
    },
    "language_info": {
      "name": "python"
    },
    "accelerator": "GPU"
  },
  "cells": [
    {
      "cell_type": "code",
      "execution_count": null,
      "metadata": {
        "id": "Jp86mLWCLedu"
      },
      "outputs": [],
      "source": [
        "import random\n",
        "import pickle\n",
        "\n",
        "import numpy as np\n",
        "import pandas as pd\n",
        "from nltk.tokenize import RegexpTokenizer\n",
        "import tensorflow as tf\n",
        "\n",
        "\n",
        "from tensorflow.keras.models import Sequential,load_model\n",
        "from tensorflow.keras.layers import LSTM,Dense ,Activation\n",
        "from tensorflow.keras.optimizers import RMSprop\n"
      ]
    },
    {
      "cell_type": "code",
      "source": [
        "url = 'https://raw.githubusercontent.com/lutzhamel/fake-news/master/data/fake_or_real_news.csv'\n",
        "df = pd.read_csv(url)\n"
      ],
      "metadata": {
        "id": "8bvYNdM7NZdF"
      },
      "execution_count": null,
      "outputs": []
    },
    {
      "cell_type": "code",
      "source": [
        "text = list(df.text.values)\n",
        "joined_text = \" \".join(text)"
      ],
      "metadata": {
        "id": "cvgyUOgmN2zJ"
      },
      "execution_count": null,
      "outputs": []
    },
    {
      "cell_type": "code",
      "source": [
        "partial_text = joined_text[:10000]"
      ],
      "metadata": {
        "id": "3vTGuKKrOZdg"
      },
      "execution_count": null,
      "outputs": []
    },
    {
      "cell_type": "code",
      "source": [
        "partial_text=partial_text.lower()"
      ],
      "metadata": {
        "id": "7hr4-9jkO1Ku"
      },
      "execution_count": null,
      "outputs": []
    },
    {
      "cell_type": "code",
      "source": [
        "tokenizer = RegexpTokenizer(r\"\\w+\")\n",
        "tokens = tokenizer.tokenize(partial_text)"
      ],
      "metadata": {
        "id": "0ZUgkeNrO6h0"
      },
      "execution_count": null,
      "outputs": []
    },
    {
      "cell_type": "code",
      "source": [
        "unique_tokens = np.unique(tokens)"
      ],
      "metadata": {
        "id": "WPb0aBnSPV_g"
      },
      "execution_count": null,
      "outputs": []
    },
    {
      "cell_type": "code",
      "source": [
        "unique_tokens_index = {token:idx for idx,token in enumerate(unique_tokens)}"
      ],
      "metadata": {
        "id": "Ow9S2bmMPYnf"
      },
      "execution_count": null,
      "outputs": []
    },
    {
      "cell_type": "code",
      "source": [
        "n_words = 10\n",
        "input_words = []\n",
        "next_words = []\n",
        "for i in range(len(tokens)- n_words ):\n",
        "  input_words.append(tokens[i:i + n_words])\n",
        "  next_words.append(tokens[i + n_words])\n"
      ],
      "metadata": {
        "id": "npZFwmLVQH3A"
      },
      "execution_count": null,
      "outputs": []
    },
    {
      "cell_type": "code",
      "source": [
        "X = np.zeros((len(input_words),n_words,len(unique_tokens)), dtype=bool)\n",
        "Y = np.zeros((len(next_words),len(unique_tokens)),dtype=bool)"
      ],
      "metadata": {
        "id": "yFMnbo-SUHtc"
      },
      "execution_count": null,
      "outputs": []
    },
    {
      "cell_type": "code",
      "source": [
        "for i,words in enumerate(input_words):\n",
        "  for j,word in enumerate(words):\n",
        "    X[i,j,unique_tokens_index[word]] =1\n",
        "  Y[i,unique_tokens_index[next_words[i]]] =1"
      ],
      "metadata": {
        "id": "EifAmF7LYyw8"
      },
      "execution_count": null,
      "outputs": []
    },
    {
      "cell_type": "code",
      "source": [
        "model = Sequential()\n",
        "model.add(LSTM(128,input_shape=(n_words,len(unique_tokens)),return_sequences=True))\n",
        "model.add(LSTM(128))\n",
        "model.add(Dense(len(unique_tokens)))\n",
        "model.add(Activation(\"softmax\"))"
      ],
      "metadata": {
        "id": "cWJzqtM_aabh"
      },
      "execution_count": null,
      "outputs": []
    },
    {
      "cell_type": "code",
      "source": [
        "model.compile(loss='categorical_crossentropy',optimizer=RMSprop(learning_rate=0.01),metrics=['accuracy'])\n",
        "model.fit(X,Y,batch_size = 128,epochs=30,shuffle=True)"
      ],
      "metadata": {
        "colab": {
          "base_uri": "https://localhost:8080/"
        },
        "id": "gJBfh_FEbcfx",
        "outputId": "727d23f0-8a79-4dce-99fe-3967c258de1c"
      },
      "execution_count": null,
      "outputs": [
        {
          "output_type": "stream",
          "name": "stdout",
          "text": [
            "Epoch 1/30\n",
            "14/14 [==============================] - 3s 9ms/step - loss: 5.1747 - accuracy: 0.0795\n",
            "Epoch 2/30\n",
            "14/14 [==============================] - 0s 8ms/step - loss: 4.8307 - accuracy: 0.1007\n",
            "Epoch 3/30\n",
            "14/14 [==============================] - 0s 7ms/step - loss: 4.5867 - accuracy: 0.1035\n",
            "Epoch 4/30\n",
            "14/14 [==============================] - 0s 6ms/step - loss: 4.3531 - accuracy: 0.1230\n",
            "Epoch 5/30\n",
            "14/14 [==============================] - 0s 6ms/step - loss: 4.0302 - accuracy: 0.1642\n",
            "Epoch 6/30\n",
            "14/14 [==============================] - 0s 6ms/step - loss: 3.7192 - accuracy: 0.1762\n",
            "Epoch 7/30\n",
            "14/14 [==============================] - 0s 6ms/step - loss: 3.3622 - accuracy: 0.2203\n",
            "Epoch 8/30\n",
            "14/14 [==============================] - 0s 6ms/step - loss: 3.0260 - accuracy: 0.2712\n",
            "Epoch 9/30\n",
            "14/14 [==============================] - 0s 6ms/step - loss: 2.6437 - accuracy: 0.3576\n",
            "Epoch 10/30\n",
            "14/14 [==============================] - 0s 6ms/step - loss: 2.2948 - accuracy: 0.4462\n",
            "Epoch 11/30\n",
            "14/14 [==============================] - 0s 6ms/step - loss: 1.9084 - accuracy: 0.5864\n",
            "Epoch 12/30\n",
            "14/14 [==============================] - 0s 7ms/step - loss: 1.5974 - accuracy: 0.6596\n",
            "Epoch 13/30\n",
            "14/14 [==============================] - 0s 6ms/step - loss: 1.2938 - accuracy: 0.7506\n",
            "Epoch 14/30\n",
            "14/14 [==============================] - 0s 6ms/step - loss: 1.0642 - accuracy: 0.8003\n",
            "Epoch 15/30\n",
            "14/14 [==============================] - 0s 6ms/step - loss: 0.8123 - accuracy: 0.8781\n",
            "Epoch 16/30\n",
            "14/14 [==============================] - 0s 6ms/step - loss: 0.6046 - accuracy: 0.9193\n",
            "Epoch 17/30\n",
            "14/14 [==============================] - 0s 7ms/step - loss: 0.4214 - accuracy: 0.9657\n",
            "Epoch 18/30\n",
            "14/14 [==============================] - 0s 7ms/step - loss: 0.3661 - accuracy: 0.9577\n",
            "Epoch 19/30\n",
            "14/14 [==============================] - 0s 7ms/step - loss: 0.2749 - accuracy: 0.9788\n",
            "Epoch 20/30\n",
            "14/14 [==============================] - 0s 9ms/step - loss: 0.1778 - accuracy: 0.9794\n",
            "Epoch 21/30\n",
            "14/14 [==============================] - 0s 8ms/step - loss: 0.3017 - accuracy: 0.9605\n",
            "Epoch 22/30\n",
            "14/14 [==============================] - 0s 9ms/step - loss: 0.0650 - accuracy: 0.9983\n",
            "Epoch 23/30\n",
            "14/14 [==============================] - 0s 8ms/step - loss: 0.0446 - accuracy: 0.9994\n",
            "Epoch 24/30\n",
            "14/14 [==============================] - 0s 8ms/step - loss: 0.2608 - accuracy: 0.9485\n",
            "Epoch 25/30\n",
            "14/14 [==============================] - 0s 9ms/step - loss: 0.1688 - accuracy: 0.9788\n",
            "Epoch 26/30\n",
            "14/14 [==============================] - 0s 8ms/step - loss: 0.0281 - accuracy: 1.0000\n",
            "Epoch 27/30\n",
            "14/14 [==============================] - 0s 8ms/step - loss: 0.0159 - accuracy: 1.0000\n",
            "Epoch 28/30\n",
            "14/14 [==============================] - 0s 9ms/step - loss: 0.0120 - accuracy: 1.0000\n",
            "Epoch 29/30\n",
            "14/14 [==============================] - 0s 8ms/step - loss: 0.0096 - accuracy: 1.0000\n",
            "Epoch 30/30\n",
            "14/14 [==============================] - 0s 8ms/step - loss: 0.0081 - accuracy: 1.0000\n"
          ]
        },
        {
          "output_type": "execute_result",
          "data": {
            "text/plain": [
              "<keras.src.callbacks.History at 0x7ba74c2a9780>"
            ]
          },
          "metadata": {},
          "execution_count": 20
        }
      ]
    },
    {
      "cell_type": "code",
      "source": [
        "def pre_next_word(input_text,n_best):\n",
        "  input_text = input_text.lower()\n",
        "  X = np.zeros((1,n_words,len(unique_tokens)))\n",
        "  for i,word in enumerate(input_text.split()):\n",
        "    X[0,i,unique_tokens_index[word]]=1\n",
        "  predictions = model.predict(X)[0]\n",
        "  return np.argpartition(predictions,-n_best)[-n_best:]"
      ],
      "metadata": {
        "id": "wEymiZmmb3o0"
      },
      "execution_count": null,
      "outputs": []
    },
    {
      "cell_type": "code",
      "source": [
        "possible = pre_next_word(\"He will have to look into this thing and he\",5)"
      ],
      "metadata": {
        "colab": {
          "base_uri": "https://localhost:8080/"
        },
        "id": "GO3WUn8kdACw",
        "outputId": "125510d5-fe9f-4ad3-cb71-b28b182a749e"
      },
      "execution_count": null,
      "outputs": [
        {
          "output_type": "stream",
          "name": "stdout",
          "text": [
            "1/1 [==============================] - 1s 813ms/step\n"
          ]
        }
      ]
    },
    {
      "cell_type": "code",
      "source": [
        "print([unique_tokens[idx] for idx in possible])"
      ],
      "metadata": {
        "colab": {
          "base_uri": "https://localhost:8080/"
        },
        "id": "ry1-UDjuddDq",
        "outputId": "475cb6de-b92d-4f08-8c01-aaf88b8c13d6"
      },
      "execution_count": null,
      "outputs": [
        {
          "output_type": "stream",
          "name": "stdout",
          "text": [
            "['wouldn', 'it', 'out', 'not', 'be']\n"
          ]
        }
      ]
    },
    {
      "cell_type": "code",
      "source": [],
      "metadata": {
        "id": "Ez08JFjudwY2"
      },
      "execution_count": null,
      "outputs": []
    }
  ]
}